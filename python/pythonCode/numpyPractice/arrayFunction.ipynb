{
 "cells": [
  {
   "cell_type": "markdown",
   "metadata": {},
   "source": [
    "# Search"
   ]
  },
  {
   "cell_type": "code",
   "execution_count": 6,
   "metadata": {},
   "outputs": [
    {
     "name": "stdout",
     "output_type": "stream",
     "text": [
      "[4 6 8] [4 4 4]\n"
     ]
    }
   ],
   "source": [
    "import numpy as np\n",
    "\n",
    "var1 = np.array([1,2,3,4,5,4,7,4])\n",
    "\n",
    "s = np.where(var1==4)\n",
    "\n",
    "for i in s:\n",
    "    print(var1[i])"
   ]
  },
  {
   "cell_type": "markdown",
   "metadata": {},
   "source": [
    "# search sorted array\n",
    "performs binary search in array and returns the index where the specified value would be inserted to maintain the search order"
   ]
  },
  {
   "cell_type": "code",
   "execution_count": 10,
   "metadata": {},
   "outputs": [
    {
     "name": "stdout",
     "output_type": "stream",
     "text": [
      "The index of the value 3 in array 'var2' is: 2\n",
      "The index of the value 6 in array 'var2' is: 4\n"
     ]
    }
   ],
   "source": [
    "var2 = np.array([1,2,4,5,7])\n",
    "\n",
    "ans3 = np.searchsorted(var2,3)\n",
    "ans6 = np.searchsorted(var2,6)\n",
    "print(\"The index of the value 3 in array 'var2' is:\", ans3)\n",
    "print(\"The index of the value 6 in array 'var2' is:\", ans6)"
   ]
  },
  {
   "cell_type": "markdown",
   "metadata": {},
   "source": [
    "# Sort array"
   ]
  },
  {
   "cell_type": "code",
   "execution_count": 11,
   "metadata": {},
   "outputs": [
    {
     "name": "stdout",
     "output_type": "stream",
     "text": [
      "[0 1 2 3 4 5 7 8 8 9]\n"
     ]
    }
   ],
   "source": [
    "var3=np.array([1,3,7,5,4,2,9,8,8,0])\n",
    "print(np.sort(var3))"
   ]
  },
  {
   "cell_type": "markdown",
   "metadata": {},
   "source": [
    "# Filter array\n",
    "getting some elements out of existing array and creating a new array out of them"
   ]
  },
  {
   "cell_type": "code",
   "execution_count": 12,
   "metadata": {},
   "outputs": [
    {
     "name": "stdout",
     "output_type": "stream",
     "text": [
      "['r' 'i' 'y' 'a']\n"
     ]
    }
   ],
   "source": [
    "var4 = np.array(['a','b','r','i','y','a'])\n",
    "\n",
    "flag = [False,False,True,True,True,True]\n",
    "\n",
    "var4Ans = var4[flag]\n",
    "\n",
    "print(var4Ans)"
   ]
  }
 ],
 "metadata": {
  "kernelspec": {
   "display_name": "base",
   "language": "python",
   "name": "python3"
  },
  "language_info": {
   "codemirror_mode": {
    "name": "ipython",
    "version": 3
   },
   "file_extension": ".py",
   "mimetype": "text/x-python",
   "name": "python",
   "nbconvert_exporter": "python",
   "pygments_lexer": "ipython3",
   "version": "3.11.4"
  }
 },
 "nbformat": 4,
 "nbformat_minor": 2
}
