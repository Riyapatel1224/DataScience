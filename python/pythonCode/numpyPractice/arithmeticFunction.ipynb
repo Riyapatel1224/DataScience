{
 "cells": [
  {
   "cell_type": "code",
   "execution_count": 12,
   "metadata": {},
   "outputs": [
    {
     "name": "stdout",
     "output_type": "stream",
     "text": [
      "[2 5 1 4 3]\n"
     ]
    }
   ],
   "source": [
    "# Shuffle\n",
    "\n",
    "import numpy as np\n",
    "\n",
    "var1 = np.array([1,2,3,4,5])\n",
    "np.random.shuffle(var1)\n",
    "\n",
    "print(var1)"
   ]
  },
  {
   "cell_type": "code",
   "execution_count": 17,
   "metadata": {},
   "outputs": [
    {
     "name": "stdout",
     "output_type": "stream",
     "text": [
      "(array([0, 1, 2, 3, 4, 6]), array([9, 0, 1, 5, 2, 8]), array([1, 2, 2, 2, 3, 1]))\n"
     ]
    }
   ],
   "source": [
    "# Unique\n",
    "\n",
    "var2 = np.array([1,2,4,4,2,3,3,4,6,0,1])\n",
    "print(np.unique(var2,return_index=True,return_counts=True))  #Returns an array of unique values in"
   ]
  },
  {
   "cell_type": "code",
   "execution_count": 21,
   "metadata": {},
   "outputs": [
    {
     "name": "stdout",
     "output_type": "stream",
     "text": [
      "[[1 2 3]\n",
      " [4 5 6]]\n"
     ]
    }
   ],
   "source": [
    "# Resize\n",
    "\n",
    "var3 = np.array([1,2,3,4,5,6])\n",
    "\n",
    "print(np.resize(var3,(2,3)))"
   ]
  },
  {
   "cell_type": "code",
   "execution_count": 24,
   "metadata": {},
   "outputs": [
    {
     "name": "stdout",
     "output_type": "stream",
     "text": [
      "[1 2 3 4 5 6]\n",
      "Flatten :  [1 4 2 5 3 6]\n",
      "Ravel :  [1 2 3 4 5 6]\n",
      "Flatten :  [1 4 2 5 3 6]\n"
     ]
    }
   ],
   "source": [
    "# Flatten Ravel \n",
    "\n",
    "var4 = np.array([1,2,3,4,5,6])\n",
    "y=np.resize(var4,(2,3))\n",
    "print(var4)\n",
    "print(\"Flatten : \",y.flatten(order='F'))\n",
    "print(\"Ravel : \",np.ravel(y))"
   ]
  }
 ],
 "metadata": {
  "kernelspec": {
   "display_name": "base",
   "language": "python",
   "name": "python3"
  },
  "language_info": {
   "codemirror_mode": {
    "name": "ipython",
    "version": 3
   },
   "file_extension": ".py",
   "mimetype": "text/x-python",
   "name": "python",
   "nbconvert_exporter": "python",
   "pygments_lexer": "ipython3",
   "version": "3.11.4"
  }
 },
 "nbformat": 4,
 "nbformat_minor": 2
}
