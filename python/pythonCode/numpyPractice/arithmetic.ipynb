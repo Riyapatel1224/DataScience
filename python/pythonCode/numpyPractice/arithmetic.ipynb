{
 "cells": [
  {
   "cell_type": "markdown",
   "metadata": {},
   "source": [
    "# Arithmetic Operations"
   ]
  },
  {
   "cell_type": "markdown",
   "metadata": {},
   "source": [
    "# oneDimensional Array"
   ]
  },
  {
   "cell_type": "code",
   "execution_count": 6,
   "metadata": {},
   "outputs": [
    {
     "name": "stdout",
     "output_type": "stream",
     "text": [
      "[2 4 6 8]\n",
      "[2 4 6 8]\n"
     ]
    }
   ],
   "source": [
    "import numpy as np\n",
    "\n",
    "#addition\n",
    "# for different arithmetic operations just replace + -> - * / ^ or ** in the line 10 and 15.\n",
    "# reciprocal 1/num=ans\n",
    "var1=np.array([1,2,3,4])\n",
    "var1add = var1+3\n",
    "var1add\n",
    "\n",
    "var2 = np.array([1,2,3,4])\n",
    "var3 = np.array([1,2,3,4])\n",
    "var23add = var2+var3\n",
    "var23addF = np.add(var2,var3) #using function\n",
    "print(var23add) \n",
    "print(var23add)"
   ]
  },
  {
   "cell_type": "markdown",
   "metadata": {},
   "source": [
    "# twoDimensional Array"
   ]
  },
  {
   "cell_type": "code",
   "execution_count": 7,
   "metadata": {},
   "outputs": [
    {
     "name": "stdout",
     "output_type": "stream",
     "text": [
      "[2 4 6]\n"
     ]
    }
   ],
   "source": [
    "var2d1 = np.array([1,2,3])\n",
    "var2d2 = np.array([1,2,3])\n",
    "\n",
    "var2dAdd = np.add(var2d1,var2d2)\n",
    "\n",
    "print(var2dAdd)"
   ]
  },
  {
   "cell_type": "markdown",
   "metadata": {},
   "source": [
    "# Arithmetic Functions"
   ]
  },
  {
   "cell_type": "markdown",
   "metadata": {},
   "source": [
    "types of arithmetis functions : \n",
    "np.min()\n",
    "np.max()\n",
    "np.argmin()\n",
    "np.sqrt()\n",
    "np.sin()\n",
    "np.cos()\n",
    "np.cumsum()"
   ]
  },
  {
   "cell_type": "code",
   "execution_count": 11,
   "metadata": {},
   "outputs": [
    {
     "name": "stdout",
     "output_type": "stream",
     "text": [
      "min:  1 1\n",
      "max:  4 4\n"
     ]
    }
   ],
   "source": [
    "num = np.array([1,2,3,4])\n",
    "\n",
    "print(\"min: \",np.min(num),np.argmin(num)) # position of the  minimum value in array  \n",
    "print(\"max: \",np.max(num),np.argmax(num)) # position of the  maximum value in array"
   ]
  },
  {
   "cell_type": "code",
   "execution_count": 16,
   "metadata": {},
   "outputs": [
    {
     "name": "stdout",
     "output_type": "stream",
     "text": [
      "min:  [1 1 3]\n",
      "min:  [1 1]\n",
      "\n",
      "\n",
      "max:  [7 2 4]\n",
      "max:  [3 7]\n"
     ]
    }
   ],
   "source": [
    "# axis 0= column , 1 = row\n",
    "num2 = np.array([[1,2,3],[7,1,4]])\n",
    "print(\"min: \",np.min(num2,axis=0))\n",
    "print(\"min: \",np.min(num2,axis=1))\n",
    "print(\"\\n\")\n",
    "print(\"max: \",np.max(num2,axis=0))\n",
    "print(\"max: \",np.max(num2,axis=1))"
   ]
  },
  {
   "cell_type": "code",
   "execution_count": 23,
   "metadata": {},
   "outputs": [
    {
     "name": "stdout",
     "output_type": "stream",
     "text": [
      "sqrt of 1d:  [1.         1.41421356 1.73205081 2.        ]\n",
      "sqrt of 2d:  [[1.         1.41421356 1.73205081]\n",
      " [2.64575131 1.         2.        ]]\n"
     ]
    }
   ],
   "source": [
    "print(\"sqrt of 1d: \",np.sqrt(num))\n",
    "print(\"sqrt of 2d: \",np.sqrt(num2))"
   ]
  },
  {
   "cell_type": "code",
   "execution_count": 26,
   "metadata": {},
   "outputs": [
    {
     "name": "stdout",
     "output_type": "stream",
     "text": [
      "sin:  [0.84147098 0.90929743 0.14112001]\n",
      "cos:  [ 0.54030231 -0.41614684 -0.9899925 ]\n"
     ]
    }
   ],
   "source": [
    "#sin and cos\n",
    "\n",
    "sin1 = np.array([1,2,3])\n",
    "print(\"sin: \",np.sin(sin1))\n",
    "print(\"cos: \",np.cos(sin1))"
   ]
  },
  {
   "cell_type": "code",
   "execution_count": 27,
   "metadata": {},
   "outputs": [
    {
     "name": "stdout",
     "output_type": "stream",
     "text": [
      "Input array: [ 1  3  6 10 15]\n"
     ]
    }
   ],
   "source": [
    "#cumsum / smmation\n",
    "\n",
    "cumsum1 = np.array([1,2,3,4,5])\n",
    "print(f\"Input array: {np.cumsum(cumsum1)}\")"
   ]
  }
 ],
 "metadata": {
  "kernelspec": {
   "display_name": "base",
   "language": "python",
   "name": "python3"
  },
  "language_info": {
   "codemirror_mode": {
    "name": "ipython",
    "version": 3
   },
   "file_extension": ".py",
   "mimetype": "text/x-python",
   "name": "python",
   "nbconvert_exporter": "python",
   "pygments_lexer": "ipython3",
   "version": "3.11.4"
  }
 },
 "nbformat": 4,
 "nbformat_minor": 2
}
