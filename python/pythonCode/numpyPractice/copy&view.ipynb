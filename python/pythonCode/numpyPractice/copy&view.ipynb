{
 "cells": [
  {
   "cell_type": "markdown",
   "metadata": {},
   "source": [
    "# Copy VS View"
   ]
  },
  {
   "cell_type": "markdown",
   "metadata": {},
   "source": [
    "Difference\n",
    "- copy owns the data\n",
    "- view does not own the data\n",
    "----------------------------------------------------------------------------------------------------------------\n",
    "- copy of an array is a new array itself\n",
    "- view of an array is original array\n",
    "----------------------------------------------------------------------------------------------------------------\n",
    "- changes made in copy array does not reflect in original array\n",
    "- changes made in view array does reflect in original array and vise versa\n"
   ]
  },
  {
   "cell_type": "code",
   "execution_count": 6,
   "metadata": {},
   "outputs": [
    {
     "name": "stdout",
     "output_type": "stream",
     "text": [
      "var:  [10  2  3  4  5]\n",
      "copy:  [1 2 3 4 5]\n"
     ]
    }
   ],
   "source": [
    "import numpy as np\n",
    "\n",
    "var = np.array([1,2,3,4,5])\n",
    "co = var.copy()\n",
    "\n",
    "var[0]=10\n",
    "\n",
    "print(\"var: \",var)\n",
    "print(\"copy: \",co)"
   ]
  },
  {
   "cell_type": "code",
   "execution_count": 7,
   "metadata": {},
   "outputs": [
    {
     "name": "stdout",
     "output_type": "stream",
     "text": [
      "var2:  [10  2  3  4  5  6]\n",
      "view:  [10  2  3  4  5  6]\n"
     ]
    }
   ],
   "source": [
    "var2 = np.array([1,2,3,4,5,6])\n",
    "\n",
    "view = var2.view()\n",
    "\n",
    "var2[0]=10\n",
    "\n",
    "print(\"var2: \",var2)\n",
    "print(\"view: \",view)"
   ]
  }
 ],
 "metadata": {
  "kernelspec": {
   "display_name": "base",
   "language": "python",
   "name": "python3"
  },
  "language_info": {
   "codemirror_mode": {
    "name": "ipython",
    "version": 3
   },
   "file_extension": ".py",
   "mimetype": "text/x-python",
   "name": "python",
   "nbconvert_exporter": "python",
   "pygments_lexer": "ipython3",
   "version": "3.11.4"
  }
 },
 "nbformat": 4,
 "nbformat_minor": 2
}
