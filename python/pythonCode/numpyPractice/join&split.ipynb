{
 "cells": [
  {
   "cell_type": "markdown",
   "metadata": {},
   "source": [
    "# JOIN & SPLIT"
   ]
  },
  {
   "cell_type": "markdown",
   "metadata": {},
   "source": [
    "join : combinig two or more array into single array"
   ]
  },
  {
   "cell_type": "code",
   "execution_count": 14,
   "metadata": {},
   "outputs": [
    {
     "name": "stdout",
     "output_type": "stream",
     "text": [
      "[1 2 3 4 5 6 7 8] \n",
      "\n",
      "[1 2 3 4 5 6 7 8] \n",
      "\n",
      "[[1 2]\n",
      " [3 4]\n",
      " [5 6]\n",
      " [7 8]] \n",
      "\n",
      "[[1 2 5 6]\n",
      " [3 4 7 8]] \n",
      "\n"
     ]
    }
   ],
   "source": [
    "import numpy as np\n",
    "\n",
    "var1 = np.array([1,2,3,4])\n",
    "var2 = np.array([5,6,7,8])\n",
    "\n",
    "var3 = np.array([[1,2],[3,4]])\n",
    "var4 = np.array([[5,6],[7,8]])\n",
    "\n",
    "ar1 = np.concatenate((var1,var2))\n",
    "\n",
    "#1D\n",
    "arAxis0 = np.concatenate((var1,var2),axis=0)\n",
    "\n",
    "#2D\n",
    "arAxis1 = np.concatenate((var3,var4),axis=0)\n",
    "arAxis2 = np.concatenate((var3,var4),axis=1)\n",
    "\n",
    "print(ar1,\"\\n\")\n",
    "print(arAxis0,\"\\n\")\n",
    "print(arAxis1,\"\\n\")\n",
    "print(arAxis2,\"\\n\")"
   ]
  },
  {
   "cell_type": "code",
   "execution_count": 18,
   "metadata": {},
   "outputs": [
    {
     "name": "stdout",
     "output_type": "stream",
     "text": [
      "[[1 2 3 4 5]\n",
      " [1 2 3 4 5]] \n",
      "\n",
      "[1 2 3 4 5 1 2 3 4 5] \n",
      "\n",
      "[[1 2 3 4 5]\n",
      " [1 2 3 4 5]] \n",
      "\n",
      "[[[1 1]\n",
      "  [2 2]\n",
      "  [3 3]\n",
      "  [4 4]\n",
      "  [5 5]]] \n",
      "\n"
     ]
    }
   ],
   "source": [
    "#stack function\n",
    "\n",
    "var6 = np.array([1,2,3,4,5])\n",
    "var7 = np.array([1,2,3,4,5])\n",
    "\n",
    "arnew = np.stack((var6,var7))\n",
    "arnewH = np.hstack((var6,var7))\n",
    "arnewV = np.vstack((var6,var7))\n",
    "arnewD = np.dstack((var6,var7))\n",
    "\n",
    "print(arnew,\"\\n\")\n",
    "print(arnewH,\"\\n\") # row\n",
    "print(arnewV,\"\\n\") # column\n",
    "print(arnewD,\"\\n\") # height"
   ]
  },
  {
   "cell_type": "markdown",
   "metadata": {},
   "source": [
    "splitting : divide array into multiple smaller array."
   ]
  },
  {
   "cell_type": "code",
   "execution_count": 22,
   "metadata": {},
   "outputs": [
    {
     "name": "stdout",
     "output_type": "stream",
     "text": [
      "[array([1, 2, 3]), array([4, 5, 6]), array([7, 8, 9])]\n",
      "[1 2 3]\n",
      "[4 5 6]\n",
      "[7 8 9]\n"
     ]
    }
   ],
   "source": [
    "#1D Array\n",
    "\n",
    "var8 = np.array([1,2,3,4,5,6,7,8,9])\n",
    "\n",
    "split1D= np.array_split(var8,3)\n",
    "print(split1D)\n",
    "\n",
    "for i in split1D:\n",
    "    print(i)"
   ]
  },
  {
   "cell_type": "code",
   "execution_count": 30,
   "metadata": {},
   "outputs": [
    {
     "name": "stdout",
     "output_type": "stream",
     "text": [
      "[array([[1, 2, 5]]), array([[3, 4, 6]])]\n",
      "[[1 2 5]]\n",
      "[[3 4 6]]\n"
     ]
    }
   ],
   "source": [
    "#2D array\n",
    "\n",
    "var9 = np.array([[1,2,5],[3,4,6]])\n",
    "\n",
    "split2D = np.array_split(var9, 2)\n",
    "print(split2D)\n",
    "\n",
    "for i in split2D:\n",
    "    print(i)"
   ]
  }
 ],
 "metadata": {
  "kernelspec": {
   "display_name": "base",
   "language": "python",
   "name": "python3"
  },
  "language_info": {
   "codemirror_mode": {
    "name": "ipython",
    "version": 3
   },
   "file_extension": ".py",
   "mimetype": "text/x-python",
   "name": "python",
   "nbconvert_exporter": "python",
   "pygments_lexer": "ipython3",
   "version": "3.11.4"
  }
 },
 "nbformat": 4,
 "nbformat_minor": 2
}
